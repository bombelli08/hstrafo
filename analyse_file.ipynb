{
 "cells": [
  {
   "cell_type": "code",
   "execution_count": 284,
   "metadata": {
    "collapsed": false
   },
   "outputs": [],
   "source": [
    "from os import path\n",
    "\n",
    "data_folder = \"data\"\n",
    "\n",
    "#test = open(test_file, \"r\")\n",
    "#print(test.readlines())\n",
    "\n",
    "import os\n",
    "for file in os.listdir(\"data\"):\n",
    "    if file.endswith(\".txt\"):\n",
    "        print(file)"
   ]
  },
  {
   "cell_type": "code",
   "execution_count": 285,
   "metadata": {
    "collapsed": false
   },
   "outputs": [
    {
     "name": "stdout",
     "output_type": "stream",
     "text": [
      "PAGE SEPERATION FOUND on line 59\n",
      "PAGE SEPERATION FOUND on line 60\n",
      "PAGE SEPERATION FOUND on line 69\n",
      "PAGE SEPERATION FOUND on line 81\n",
      "PAGE SEPERATION FOUND on line 108\n",
      "PAGE SEPERATION FOUND on line 109\n"
     ]
    }
   ],
   "source": [
    "count = 0\n",
    "\n",
    "segment_endings = []\n",
    "\n",
    "with open(test_file, \"r\") as open_file:\n",
    "    for line in open_file:\n",
    "        check = line[:2]\n",
    "        if check == \"--\" or check == \"__\":\n",
    "            print(\"PAGE SEPERATION FOUND on line \" + str(count))\n",
    "            segment_endings.append(count)\n",
    "        count = count + 1\n",
    "        \n"
   ]
  },
  {
   "cell_type": "code",
   "execution_count": 286,
   "metadata": {
    "collapsed": false
   },
   "outputs": [],
   "source": [
    "segments = []\n",
    "\n",
    "last_ending = -1\n",
    "\n",
    "with open(test_file, \"r\") as open_file:\n",
    "    lines = open_file.readlines()\n",
    "    for ending in segment_endings:\n",
    "        segment = lines[last_ending + 1:ending]\n",
    "        segments.append(segment)\n",
    "        last_ending = ending"
   ]
  },
  {
   "cell_type": "code",
   "execution_count": 287,
   "metadata": {
    "collapsed": false
   },
   "outputs": [
    {
     "name": "stdout",
     "output_type": "stream",
     "text": [
      "['\\n', '\\n', 'Rapport nummer: TDC1511.046\\n', 'SAGOBAS-nummer: o151766g\\n', '\\n', 'Analyseresultaten van de olie uit de\\n', 'transformator Pauwels 7840225\\n', '\\n']\n"
     ]
    }
   ],
   "source": [
    "rapport_page = segments[2]\n",
    "\n",
    "print (rapport_page)"
   ]
  },
  {
   "cell_type": "code",
   "execution_count": 288,
   "metadata": {
    "collapsed": false
   },
   "outputs": [],
   "source": [
    "rapport_nummer = \"\"\n",
    "serie_nummer = \"\"\n",
    "\n",
    "for line in rapport_page:\n",
    "    if \"Rapport nummer:\" in line:\n",
    "        rapport_nummer = line.strip()[16:]\n",
    "    elif \"transformator\" in line:\n",
    "        serie_nummer = ' '.join(line.split()[2:])"
   ]
  },
  {
   "cell_type": "code",
   "execution_count": 289,
   "metadata": {
    "collapsed": true
   },
   "outputs": [],
   "source": [
    "meta_page = segments[3]"
   ]
  },
  {
   "cell_type": "code",
   "execution_count": 290,
   "metadata": {
    "collapsed": false
   },
   "outputs": [
    {
     "name": "stdout",
     "output_type": "stream",
     "text": [
      "15-11-17\n",
      "\n"
     ]
    }
   ],
   "source": [
    "bemonsterings_datum = \"\"\n",
    "\n",
    "for line in meta_page:\n",
    "    if \"Bemonsteringsdatum\" in line:\n",
    "        bemonsterings_datum = line[-9:]\n",
    "        \n",
    "print(bemonsterings_datum)"
   ]
  },
  {
   "cell_type": "code",
   "execution_count": 291,
   "metadata": {
    "collapsed": false
   },
   "outputs": [],
   "source": [
    "gas_olie_page = segments[4]\n",
    "\n",
    "conclusie_gas = \"\"\n",
    "oordeel_gas = \"\"\n",
    "\n",
    "for line in gas_olie_page:\n",
    "    if line[0] == '-':\n",
    "        conclusie_gas = conclusie_gas + line[2:-2]\n",
    "    if conclusie_gas == \"een normaal verouderingsproces\":\n",
    "        oordeel_gas = \"+\"\n",
    "    elif conclusie_gas == \"lekkage vanuit het lastschakelaarcompartiment\":\n",
    "        oordeel_gas = \"+\"\n",
    "    elif conclusie_gas == \"geen meting beschikbaar volgens normaal regime\":\n",
    "        oordeel_gas = \"0\"\n",
    "    elif conclusie_gas == \"wisselwerking tussen olie en verzinkte bak\":\n",
    "        oordeel_gas = \"0\"\n",
    "    elif conclusie_gas == \"thermische fout\":\n",
    "        oordeel_gas = \"-\"\n",
    "    elif conclusie_gas == \"dielektrische fout\":\n",
    "        oordeel_gas = \"-\"\n",
    "    elif conclusie_gas == \"deelontladingen\":\n",
    "        oordeel_gas = \"-\"\n",
    "    elif conclusie_gas == \"thermische belasting van het papier\":\n",
    "        oordeel_gas = \"-\"\n",
    "    elif conclusie_gas == \"ontladingen\":\n",
    "        oordeel_gas = \"-\"\n",
    "    elif conclusie_gas == \"vervolgstudie/einde levensduur starten\":\n",
    "        oordeel_gas = \"-\""
   ]
  },
  {
   "cell_type": "code",
   "execution_count": 292,
   "metadata": {
    "collapsed": false
   },
   "outputs": [],
   "source": [
    "resterende_rapporten = segments[5:7]"
   ]
  },
  {
   "cell_type": "code",
   "execution_count": 293,
   "metadata": {
    "collapsed": true
   },
   "outputs": [],
   "source": [
    "def fysische_eigenschappen(page):\n",
    "    blocks = split_in_blocks(page)\n",
    "    return ' '.join(blocks[2]).strip()"
   ]
  },
  {
   "cell_type": "code",
   "execution_count": 294,
   "metadata": {
    "collapsed": true
   },
   "outputs": [],
   "source": [
    "def furanen(page):\n",
    "    blocks = split_in_blocks(page)\n",
    "    return ' '.join(blocks[2][1:]).strip()"
   ]
  },
  {
   "cell_type": "code",
   "execution_count": 295,
   "metadata": {
    "collapsed": false
   },
   "outputs": [],
   "source": [
    "def split_in_blocks(lines):\n",
    "    block_separators = []\n",
    "    count = 0\n",
    "    for line in lines:\n",
    "        if line == '\\n':\n",
    "            block_separators.append(count)\n",
    "        count = count + 1\n",
    "        \n",
    "    blocks = []\n",
    "    previous_ending = -1\n",
    "    for separator in block_separators:\n",
    "        block = lines[previous_ending+1:separator]\n",
    "        previous_ending = separator\n",
    "        if block:\n",
    "            blocks.append(block)\n",
    "\n",
    "    return(blocks)"
   ]
  },
  {
   "cell_type": "code",
   "execution_count": 296,
   "metadata": {
    "collapsed": false
   },
   "outputs": [],
   "source": [
    "import re\n",
    "\n",
    "conclusie_fysische_eigenschappen = \"\"\n",
    "oordeel_fysishe_eigenschappen = \"\"\n",
    "conclusie_furanen = \"\"\n",
    "oordeel_furanen = \"\"\n",
    "\n",
    "for page in resterende_rapporten:\n",
    "    for line in page:\n",
    "        if \"Eigenschappen van de olie\" in line:\n",
    "            conclusie_fysische_eigenschappen = fysische_eigenschappen(page)\n",
    "            break\n",
    "        if \"Furanen\" in line:\n",
    "            conclusie_furanen = furanen(page)\n",
    "            break\n",
    "            \n",
    "if conclusie_fysische_eigenschappen == \"De olie voldoet aan IEC 60422 en kan in bedrijf blijven.\":\n",
    "    oordeel_fysische_eigenschappen = \"+\"\n",
    "elif conclusie_fysische_eigenschappen == \"Geen meting beschikbaar volgens normaal regime.\":\n",
    "    oordeel_fysische_eigenschappen = \"0\"\n",
    "elif conclusie_fysische_eigenschappen == \"\":\n",
    "    oordeel_fysische_eigenschappen = \"\"\n",
    "else:\n",
    "    oordeel_fysische_eigenschappen = \"-\"\n",
    "\n",
    "dp_waarde = re.findall('\\d+', conclusie_furanen)\n",
    "\n",
    "if dp_waarde == ['550']:\n",
    "    oordeel_furanen = \"+\"\n",
    "elif dp_waarde == ['350']:\n",
    "    oordeel_furanen = \"+\"\n",
    "elif dp_waarde == ['250']:\n",
    "    oordeel_furanen = \"-\""
   ]
  },
  {
   "cell_type": "code",
   "execution_count": 297,
   "metadata": {
    "collapsed": false
   },
   "outputs": [
    {
     "name": "stdout",
     "output_type": "stream",
     "text": [
      "rapport nummer: TDC1511.046\n",
      "serie nummer: 7840225\n",
      "olie in gas: lekkage vanuit het lastschakelaarcompartiment\n",
      "oordeel OIG: +\n",
      "fysische eigenschappen: \n",
      "oordeel FE: \n",
      "furanen: \n",
      "oordeel F: \n"
     ]
    }
   ],
   "source": [
    "print(\"rapport nummer: \" + rapport_nummer)\n",
    "print(\"serie nummer: \" + serie_nummer)\n",
    "print(\"olie in gas: \" + conclusie_gas)\n",
    "print(\"oordeel OIG: \" + oordeel_gas)\n",
    "print(\"fysische eigenschappen: \" + conclusie_fysische_eigenschappen)\n",
    "print(\"oordeel FE: \" + oordeel_fysische_eigenschappen)\n",
    "print(\"furanen: \" + conclusie_furanen)\n",
    "print(\"oordeel F: \" + oordeel_furanen)"
   ]
  },
  {
   "cell_type": "code",
   "execution_count": 298,
   "metadata": {
    "collapsed": false
   },
   "outputs": [],
   "source": [
    "row = {\"rapport_nummer\": rapport_nummer, \"serie_nummer\": serie_nummer, \"olie in gas\": conclusie_gas, \"oordeel OIG\": oordeel_gas, \"fysische eigenschappen\": conclusie_fysische_eigenschappen, \"oordeel FE\": oordeel_fysische_eigenschappen, \"furanen\": conclusie_furanen, \"oordeel F\": oordeel_furanen}"
   ]
  },
  {
   "cell_type": "code",
   "execution_count": 299,
   "metadata": {
    "collapsed": false
   },
   "outputs": [
    {
     "name": "stdout",
     "output_type": "stream",
     "text": [
      "{'oordeel FE': '', 'oordeel OIG': '+', 'olie in gas': 'lekkage vanuit het lastschakelaarcompartiment', 'furanen': '', 'rapport_nummer': 'TDC1511.046', 'serie_nummer': '7840225', 'oordeel F': '', 'fysische eigenschappen': ''}\n"
     ]
    }
   ],
   "source": [
    "print(row)"
   ]
  },
  {
   "cell_type": "code",
   "execution_count": null,
   "metadata": {
    "collapsed": false
   },
   "outputs": [],
   "source": []
  },
  {
   "cell_type": "code",
   "execution_count": null,
   "metadata": {
    "collapsed": false
   },
   "outputs": [],
   "source": []
  },
  {
   "cell_type": "code",
   "execution_count": null,
   "metadata": {
    "collapsed": true
   },
   "outputs": [],
   "source": []
  }
 ],
 "metadata": {
  "anaconda-cloud": {},
  "kernelspec": {
   "display_name": "Python [conda root]",
   "language": "python",
   "name": "conda-root-py"
  },
  "language_info": {
   "codemirror_mode": {
    "name": "ipython",
    "version": 3
   },
   "file_extension": ".py",
   "mimetype": "text/x-python",
   "name": "python",
   "nbconvert_exporter": "python",
   "pygments_lexer": "ipython3",
   "version": "3.5.2"
  }
 },
 "nbformat": 4,
 "nbformat_minor": 0
}
